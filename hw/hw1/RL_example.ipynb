{
 "cells": [
  {
   "cell_type": "code",
   "execution_count": 1,
   "metadata": {},
   "outputs": [
    {
     "name": "stdout",
     "output_type": "stream",
     "text": [
      "Requirement already satisfied: gymnasium[classic-control] in /Users/ericm/miniconda3/envs/me599/lib/python3.12/site-packages (0.29.1)\n",
      "Requirement already satisfied: numpy>=1.21.0 in /Users/ericm/miniconda3/envs/me599/lib/python3.12/site-packages (from gymnasium[classic-control]) (1.26.4)\n",
      "Requirement already satisfied: cloudpickle>=1.2.0 in /Users/ericm/miniconda3/envs/me599/lib/python3.12/site-packages (from gymnasium[classic-control]) (3.0.0)\n",
      "Requirement already satisfied: typing-extensions>=4.3.0 in /Users/ericm/miniconda3/envs/me599/lib/python3.12/site-packages (from gymnasium[classic-control]) (4.11.0)\n",
      "Requirement already satisfied: farama-notifications>=0.0.1 in /Users/ericm/miniconda3/envs/me599/lib/python3.12/site-packages (from gymnasium[classic-control]) (0.0.4)\n",
      "Requirement already satisfied: pygame>=2.1.3 in /Users/ericm/miniconda3/envs/me599/lib/python3.12/site-packages (from gymnasium[classic-control]) (2.5.2)\n"
     ]
    }
   ],
   "source": [
    "# You only need to run this cell once (per time you launch the notebook, in colab or jupyterlab)\n",
    "# Once you have installed gymnasium, you can comment out the next line\n",
    "# !pip install gymnasium\n",
    "!pip install \"gymnasium[classic-control]\" # use quotes on mac\n",
    "# !pip install \"gymnasium[box2d]\" # has known installation problems"
   ]
  },
  {
   "cell_type": "code",
   "execution_count": 1,
   "metadata": {},
   "outputs": [],
   "source": []
  },
  {
   "cell_type": "code",
   "execution_count": 2,
   "metadata": {},
   "outputs": [
    {
     "ename": "",
     "evalue": "",
     "output_type": "error",
     "traceback": [
      "\u001b[1;31mThe Kernel crashed while executing code in the the current cell or a previous cell. Please review the code in the cell(s) to identify a possible cause of the failure. Click <a href='https://aka.ms/vscodeJupyterKernelCrash'>here</a> for more info. View Jupyter <a href='command:jupyter.viewOutput'>log</a> for further details."
     ]
    }
   ],
   "source": [
    "import gymnasium as gym\n",
    "import pygame\n",
    "import sys\n",
    "\n",
    "# env = gym.make('CartPole-v1',render_mode=\"human\")\n",
    "env = gym.make(\"FrozenLake-v1\",render_mode=\"human\", is_slippery=False)\n",
    "observation, info = env.reset()\n",
    "\n",
    "for _ in range(10):\n",
    "    action = env.action_space.sample()  # agent policy that uses the observation and info\n",
    "    observation, reward, terminated, truncated, info = env.step(action)\n",
    "\n",
    "    if terminated or truncated:\n",
    "        observation, info = env.reset()\n",
    "\n",
    "# sys.exit()\n",
    "env.close()\n",
    "\n",
    "# pygame.display.quit()\n",
    "# pygame.quit()"
   ]
  },
  {
   "cell_type": "code",
   "execution_count": null,
   "metadata": {},
   "outputs": [],
   "source": []
  }
 ],
 "metadata": {
  "kernelspec": {
   "display_name": "Python 3",
   "language": "python",
   "name": "python3"
  },
  "language_info": {
   "codemirror_mode": {
    "name": "ipython",
    "version": 3
   },
   "file_extension": ".py",
   "mimetype": "text/x-python",
   "name": "python",
   "nbconvert_exporter": "python",
   "pygments_lexer": "ipython3",
   "version": "3.12.2"
  }
 },
 "nbformat": 4,
 "nbformat_minor": 2
}
